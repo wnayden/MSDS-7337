{
 "cells": [
  {
   "cell_type": "markdown",
   "metadata": {},
   "source": [
    "# Homework 4\n",
    "   Billy Nayden"
   ]
  },
  {
   "cell_type": "code",
   "execution_count": 12,
   "metadata": {},
   "outputs": [],
   "source": [
    "import nltk, re, pprint\n",
    "from nltk import word_tokenize\n",
    "\n",
    "import textblob\n",
    "from textblob import TextBlob"
   ]
  },
  {
   "cell_type": "markdown",
   "metadata": {},
   "source": [
    "## 1.\tRun one of the part-of-speech (POS) taggers available in Python. \n",
    "> a. Find the longest sentence you can, longer than 10 words, that the POS tagger tags correctly. Show the input and output."
   ]
  },
  {
   "cell_type": "code",
   "execution_count": 7,
   "metadata": {},
   "outputs": [
    {
     "data": {
      "text/plain": [
       "[('The', 'DT'),\n",
       " ('urgent', 'JJ'),\n",
       " ('care', 'NN'),\n",
       " ('center', 'NN'),\n",
       " ('was', 'VBD'),\n",
       " ('flooded', 'VBN'),\n",
       " ('with', 'IN'),\n",
       " ('patients', 'NNS'),\n",
       " ('after', 'IN'),\n",
       " ('the', 'DT'),\n",
       " ('news', 'NN'),\n",
       " ('of', 'IN'),\n",
       " ('a', 'DT'),\n",
       " ('new', 'JJ'),\n",
       " ('deadly', 'JJ'),\n",
       " ('virus', 'NN'),\n",
       " ('was', 'VBD'),\n",
       " ('made', 'VBN'),\n",
       " ('public', 'NN'),\n",
       " ('.', '.')]"
      ]
     },
     "execution_count": 7,
     "metadata": {},
     "output_type": "execute_result"
    }
   ],
   "source": [
    "text = word_tokenize(\"The urgent care center was flooded with patients after the news of a new deadly virus was made public.\")\n",
    "nltk.pos_tag(text)"
   ]
  },
  {
   "cell_type": "markdown",
   "metadata": {},
   "source": [
    "> b.\tFind the shortest sentence you can, shorter than 10 words, that the POS tagger fails to tag 100 percent correctly. Show the input and output. Explain your conjecture as to why the tagger might have been less than perfect with this sentence."
   ]
  },
  {
   "cell_type": "code",
   "execution_count": 8,
   "metadata": {},
   "outputs": [
    {
     "data": {
      "text/plain": [
       "[('It', 'PRP'),\n",
       " ('must', 'MD'),\n",
       " ('be', 'VB'),\n",
       " ('five', 'CD'),\n",
       " (\"o'clock\", 'NN'),\n",
       " ('somewhere', 'RB'),\n",
       " ('.', '.')]"
      ]
     },
     "execution_count": 8,
     "metadata": {},
     "output_type": "execute_result"
    }
   ],
   "source": [
    "text = word_tokenize(\"It must be five o'clock somewhere.\")\n",
    "nltk.pos_tag(text)"
   ]
  },
  {
   "cell_type": "markdown",
   "metadata": {},
   "source": [
    "I believe this particular POS tagger struggles with the concept of time, which is why it separates out five o' clock and tags somewhere as RB"
   ]
  },
  {
   "cell_type": "markdown",
   "metadata": {},
   "source": [
    "## 2.\tRun a different POS tagger in Python. Process the same two sentences from question 1.\n",
    "> a.\tDoes it produce the same or different output?"
   ]
  },
  {
   "cell_type": "code",
   "execution_count": 13,
   "metadata": {},
   "outputs": [
    {
     "data": {
      "text/plain": [
       "[('The', 'DT'),\n",
       " ('urgent', 'JJ'),\n",
       " ('care', 'NN'),\n",
       " ('center', 'NN'),\n",
       " ('was', 'VBD'),\n",
       " ('flooded', 'VBN'),\n",
       " ('with', 'IN'),\n",
       " ('patients', 'NNS'),\n",
       " ('after', 'IN'),\n",
       " ('the', 'DT'),\n",
       " ('news', 'NN'),\n",
       " ('of', 'IN'),\n",
       " ('a', 'DT'),\n",
       " ('new', 'JJ'),\n",
       " ('deadly', 'JJ'),\n",
       " ('virus', 'NN'),\n",
       " ('was', 'VBD'),\n",
       " ('made', 'VBN'),\n",
       " ('public', 'NN')]"
      ]
     },
     "execution_count": 13,
     "metadata": {},
     "output_type": "execute_result"
    }
   ],
   "source": [
    "blob = TextBlob(\"The urgent care center was flooded with patients after the news of a new deadly virus was made public.\")\n",
    "blob.tags"
   ]
  },
  {
   "cell_type": "code",
   "execution_count": 14,
   "metadata": {},
   "outputs": [
    {
     "data": {
      "text/plain": [
       "[('It', 'PRP'),\n",
       " ('must', 'MD'),\n",
       " ('be', 'VB'),\n",
       " ('five', 'CD'),\n",
       " (\"o'clock\", 'NN'),\n",
       " ('somewhere', 'RB')]"
      ]
     },
     "execution_count": 14,
     "metadata": {},
     "output_type": "execute_result"
    }
   ],
   "source": [
    "blob = TextBlob(\"It must be five o'clock somewhere.\")\n",
    "blob.tags"
   ]
  },
  {
   "cell_type": "markdown",
   "metadata": {},
   "source": [
    "> b.\tExplain any differences as best you can."
   ]
  },
  {
   "cell_type": "markdown",
   "metadata": {},
   "source": [
    "The only key difference is TextBlob is able to sort out periods more easily than the native NLTK tagger. Additionally the first word is treated as a proper noun."
   ]
  },
  {
   "cell_type": "markdown",
   "metadata": {},
   "source": [
    "## 3.\tIn a news article from this week’s news, find a random sentence of at least 10 words.\n",
    "> a.\tLooking at the Penn tag set, manually POS tag the sentence yourself."
   ]
  },
  {
   "cell_type": "markdown",
   "metadata": {},
   "source": [
    "Hall of Fame second baseman Joe Morgan, a key member of the Cincinnati Reds' famed Big Red Machine, died Sunday.\n",
    "\n",
    "[('Hall', 'NNP'), ('of', 'IN'), ('Fame', 'NNP'), ('second', 'JJ'), ('baseman', 'NN'), ('Joe', 'NNP'), ('Morgan', 'NNP'),('a', 'DT'), ('key', 'JJ'), ('member', 'NN'), ('of', 'IN'), ('the', 'DT'), ('Cincinnati', 'NNP'), ('Reds', 'NNP'), ('famed', 'VBD'), ('Big', 'NNP'), ('Red', 'NNP'), ('Machine', 'NNP'),('died', 'VBD'), ('Sunday', 'NNP'),]"
   ]
  },
  {
   "cell_type": "markdown",
   "metadata": {},
   "source": [
    "> b.\tNow run the same sentences through both taggers that you implemented for questions 1 and 2. Did either of the taggers produce the same results as you had created manually?"
   ]
  },
  {
   "cell_type": "code",
   "execution_count": 15,
   "metadata": {},
   "outputs": [
    {
     "data": {
      "text/plain": [
       "[('Hall', 'NN'),\n",
       " ('of', 'IN'),\n",
       " ('Fame', 'NNP'),\n",
       " ('second', 'JJ'),\n",
       " ('baseman', 'NN'),\n",
       " ('Joe', 'NNP'),\n",
       " ('Morgan', 'NNP'),\n",
       " (',', ','),\n",
       " ('a', 'DT'),\n",
       " ('key', 'JJ'),\n",
       " ('member', 'NN'),\n",
       " ('of', 'IN'),\n",
       " ('the', 'DT'),\n",
       " ('Cincinnati', 'NNP'),\n",
       " ('Reds', 'NNP'),\n",
       " (\"'\", 'POS'),\n",
       " ('famed', 'VBD'),\n",
       " ('Big', 'NNP'),\n",
       " ('Red', 'NNP'),\n",
       " ('Machine', 'NNP'),\n",
       " (',', ','),\n",
       " ('died', 'VBD'),\n",
       " ('Sunday', 'NNP'),\n",
       " ('.', '.')]"
      ]
     },
     "execution_count": 15,
     "metadata": {},
     "output_type": "execute_result"
    }
   ],
   "source": [
    "text = word_tokenize(\"Hall of Fame second baseman Joe Morgan, a key member of the Cincinnati Reds' famed Big Red Machine, died Sunday.\")\n",
    "nltk.pos_tag(text)"
   ]
  },
  {
   "cell_type": "code",
   "execution_count": 16,
   "metadata": {},
   "outputs": [
    {
     "data": {
      "text/plain": [
       "[('Hall', 'NN'),\n",
       " ('of', 'IN'),\n",
       " ('Fame', 'NNP'),\n",
       " ('second', 'JJ'),\n",
       " ('baseman', 'NN'),\n",
       " ('Joe', 'NNP'),\n",
       " ('Morgan', 'NNP'),\n",
       " ('a', 'DT'),\n",
       " ('key', 'JJ'),\n",
       " ('member', 'NN'),\n",
       " ('of', 'IN'),\n",
       " ('the', 'DT'),\n",
       " ('Cincinnati', 'NNP'),\n",
       " ('Reds', 'NNP'),\n",
       " (\"'\", 'POS'),\n",
       " ('famed', 'VBD'),\n",
       " ('Big', 'NNP'),\n",
       " ('Red', 'NNP'),\n",
       " ('Machine', 'NNP'),\n",
       " ('died', 'VBD'),\n",
       " ('Sunday', 'NNP')]"
      ]
     },
     "execution_count": 16,
     "metadata": {},
     "output_type": "execute_result"
    }
   ],
   "source": [
    "blob = TextBlob(\"Hall of Fame second baseman Joe Morgan, a key member of the Cincinnati Reds' famed Big Red Machine, died Sunday.\")\n",
    "blob.tags"
   ]
  },
  {
   "cell_type": "markdown",
   "metadata": {},
   "source": [
    "Neither POS tagger tagged it the same way I did manually."
   ]
  },
  {
   "cell_type": "markdown",
   "metadata": {},
   "source": [
    "> c.\tExplain any differences between the two taggers and your manual tagging as much as you can."
   ]
  },
  {
   "cell_type": "markdown",
   "metadata": {},
   "source": [
    "The key difference is not recognizing Hall of Fame as a proper noun at the start of the sentence. Additionally, the apostrophe after Reds threw off the tagger."
   ]
  }
 ],
 "metadata": {
  "kernelspec": {
   "display_name": "Python 3",
   "language": "python",
   "name": "python3"
  },
  "language_info": {
   "codemirror_mode": {
    "name": "ipython",
    "version": 3
   },
   "file_extension": ".py",
   "mimetype": "text/x-python",
   "name": "python",
   "nbconvert_exporter": "python",
   "pygments_lexer": "ipython3",
   "version": "3.7.1"
  }
 },
 "nbformat": 4,
 "nbformat_minor": 4
}
