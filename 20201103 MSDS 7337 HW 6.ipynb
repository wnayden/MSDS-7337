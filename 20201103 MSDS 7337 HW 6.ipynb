{
 "cells": [
  {
   "cell_type": "markdown",
   "metadata": {},
   "source": [
    "# Homework 6\n",
    "\n",
    "Billy Nayden"
   ]
  },
  {
   "cell_type": "code",
   "execution_count": 37,
   "metadata": {},
   "outputs": [],
   "source": [
    "import pandas as pd"
   ]
  },
  {
   "cell_type": "markdown",
   "metadata": {},
   "source": [
    "## 1. Evaluate text similarity of Amazon book search results by doing the following:\n",
    "> **a.\tDo a book search on Amazon. Manually copy the full book title (including subtitle) of each of the top 24 books listed in the first two pages of search results.**"
   ]
  },
  {
   "cell_type": "markdown",
   "metadata": {},
   "source": [
    "I chose to do a book search on books related to *UFOs* and found the following 24 titles below."
   ]
  },
  {
   "cell_type": "code",
   "execution_count": 43,
   "metadata": {},
   "outputs": [
    {
     "name": "stdout",
     "output_type": "stream",
     "text": [
      "Number of Books: 24\n",
      "Book Titles:  ['UFOs: The Ultimate Abduction', 'An Illustrated History of UFOs', 'UFOs: Generals, Pilots, and Government Officials Go on the Record', 'The Hynek UFO Report: The Authoritative Account of the Project Blue Book Cover-Up', 'UFO: Steve Hanson vs The Flying Saucer (The Unexplained, Explained)', 'Beyond UFOs: The Science of Consciousness & Contact with Non Human Intelligence (Volume 1)', 'ALIENS, UFOS & THE OCCULT: USE YOUR ILLUSION I: UAP Disclosure, Spiritual Warfare and Manifesting Extraterrestrials through Entertainment', \"The Alien Art - coloring book - 24 Fun and Unique Pages.: Enjoy U.FO.'s, Alien Abductions, Crop Circles, Cow Abductions or Picnic Days at Stone Henge and more\", 'UFO Cow Abduction: Beam Up Your Bovine (With Light and Sound!)', 'UFOs and the National Security State: The Cover-Up Exposed, 1973-1991', 'The Uninvited : An exposé of the alien abduction phenomenon', 'Somewhere in the Skies: A Human Approach to the UFO Phenomenon', 'UFOs & Nukes: Extraordinary Encounters at Nuclear Weapons Sites', 'Triangular UFOs: An Estimate of the Situation', 'THE PORTALS AND UFOs OF MOUNT SHASTA', 'UFO Crash Retrievals: The Complete Investigation - Status Reports I-VII (1978-1994)', 'Confession: Our Hidden Alien Encounters Revealed', 'Schoolyard UFO Encounters: 100 True Accounts', 'UFO Encounters: How High Strange Events Transform Human Perception', 'The Messengers: Owls, Synchronicity and the UFO Abductee', \"Inside The Black Vault: The Government's UFO Secrets Revealed\", 'UFO Secrets Inside Wright-Patterson: Eyewitness Accounts from the Real Area 51', 'UFOs and the National Security State: Chronology of a Coverup, 1941-1973', 'The CIA UFO Papers: 50 Years of Government Secrets and Cover-Ups']\n"
     ]
    }
   ],
   "source": [
    "df = [\"UFOs: The Ultimate Abduction\",\n",
    "     \"An Illustrated History of UFOs\",\n",
    "     \"UFOs: Generals, Pilots, and Government Officials Go on the Record\",\n",
    "     \"The Hynek UFO Report: The Authoritative Account of the Project Blue Book Cover-Up\",\n",
    "     \"UFO: Steve Hanson vs The Flying Saucer (The Unexplained, Explained)\",\n",
    "     \"Beyond UFOs: The Science of Consciousness & Contact with Non Human Intelligence (Volume 1)\",\n",
    "     \"ALIENS, UFOS & THE OCCULT: USE YOUR ILLUSION I: UAP Disclosure, Spiritual Warfare and Manifesting Extraterrestrials through Entertainment\",\n",
    "     \"The Alien Art - coloring book - 24 Fun and Unique Pages.: Enjoy U.FO.'s, Alien Abductions, Crop Circles, Cow Abductions or Picnic Days at Stone Henge and more\",\n",
    "     \"UFO Cow Abduction: Beam Up Your Bovine (With Light and Sound!)\",\n",
    "     \"UFOs and the National Security State: The Cover-Up Exposed, 1973-1991\",\n",
    "     \"The Uninvited : An exposé of the alien abduction phenomenon\",\n",
    "     \"Somewhere in the Skies: A Human Approach to the UFO Phenomenon\",\n",
    "     \"UFOs & Nukes: Extraordinary Encounters at Nuclear Weapons Sites\",\n",
    "     \"Triangular UFOs: An Estimate of the Situation\",\n",
    "     \"THE PORTALS AND UFOs OF MOUNT SHASTA\",\n",
    "     \"UFO Crash Retrievals: The Complete Investigation - Status Reports I-VII (1978-1994)\",\n",
    "     \"Confession: Our Hidden Alien Encounters Revealed\",\n",
    "     \"Schoolyard UFO Encounters: 100 True Accounts\",\n",
    "     \"UFO Encounters: How High Strange Events Transform Human Perception\",\n",
    "     \"The Messengers: Owls, Synchronicity and the UFO Abductee\",\n",
    "     \"Inside The Black Vault: The Government's UFO Secrets Revealed\",\n",
    "     \"UFO Secrets Inside Wright-Patterson: Eyewitness Accounts from the Real Area 51\",\n",
    "     \"UFOs and the National Security State: Chronology of a Coverup, 1941-1973\",\n",
    "     \"The CIA UFO Papers: 50 Years of Government Secrets and Cover-Ups\"\n",
    "]\n",
    "\n",
    "print(\"Number of Books:\",len(df))\n",
    "print(\"Book Titles: \", df)"
   ]
  },
  {
   "cell_type": "markdown",
   "metadata": {},
   "source": [
    "> **b.\tIn Python, run one of the text-similarity measures covered in this course, e.g., cosine similarity. Compare each of the book titles, pairwise, to every other one.** "
   ]
  },
  {
   "cell_type": "code",
   "execution_count": 44,
   "metadata": {},
   "outputs": [],
   "source": [
    "#https://stackoverflow.com/questions/12118720/python-tf-idf-cosine-to-find-document-similarity\n",
    "\n",
    "from sklearn.feature_extraction.text import CountVectorizer\n",
    "from sklearn.feature_extraction.text import TfidfTransformer\n",
    "from nltk.corpus import stopwords\n",
    "import numpy as np\n",
    "import numpy.linalg as LA\n",
    "from nltk.tokenize import word_tokenize\n",
    "import string"
   ]
  },
  {
   "cell_type": "code",
   "execution_count": 45,
   "metadata": {},
   "outputs": [],
   "source": [
    "#set stopwords as a variable\n",
    "sw = stopwords.words('english')"
   ]
  },
  {
   "cell_type": "code",
   "execution_count": 46,
   "metadata": {},
   "outputs": [],
   "source": [
    "#code adapted from: https://towardsdatascience.com/calculating-string-similarity-in-python-276e18a7d33a\n",
    "\n",
    "#function to clean the titles up\n",
    "def clean_titles(x):\n",
    "    tmp = ''.join([i for i in x if i not in string.punctuation])\n",
    "    tmp = tmp.lower()\n",
    "    tmp = ' '.join(i for i in tmp.split() if i not in sw)\n",
    "    return tmp"
   ]
  },
  {
   "cell_type": "code",
   "execution_count": 49,
   "metadata": {},
   "outputs": [
    {
     "data": {
      "text/plain": [
       "['ufos ultimate abduction',\n",
       " 'illustrated history ufos',\n",
       " 'ufos generals pilots government officials go record',\n",
       " 'hynek ufo report authoritative account project blue book coverup',\n",
       " 'ufo steve hanson vs flying saucer unexplained explained',\n",
       " 'beyond ufos science consciousness contact non human intelligence volume 1',\n",
       " 'aliens ufos occult use illusion uap disclosure spiritual warfare manifesting extraterrestrials entertainment',\n",
       " 'alien art coloring book 24 fun unique pages enjoy ufos alien abductions crop circles cow abductions picnic days stone henge',\n",
       " 'ufo cow abduction beam bovine light sound',\n",
       " 'ufos national security state coverup exposed 19731991',\n",
       " 'uninvited exposé alien abduction phenomenon',\n",
       " 'somewhere skies human approach ufo phenomenon',\n",
       " 'ufos nukes extraordinary encounters nuclear weapons sites',\n",
       " 'triangular ufos estimate situation',\n",
       " 'portals ufos mount shasta',\n",
       " 'ufo crash retrievals complete investigation status reports ivii 19781994',\n",
       " 'confession hidden alien encounters revealed',\n",
       " 'schoolyard ufo encounters 100 true accounts',\n",
       " 'ufo encounters high strange events transform human perception',\n",
       " 'messengers owls synchronicity ufo abductee',\n",
       " 'inside black vault governments ufo secrets revealed',\n",
       " 'ufo secrets inside wrightpatterson eyewitness accounts real area 51',\n",
       " 'ufos national security state chronology coverup 19411973',\n",
       " 'cia ufo papers 50 years government secrets coverups']"
      ]
     },
     "execution_count": 49,
     "metadata": {},
     "output_type": "execute_result"
    }
   ],
   "source": [
    "title_list_clean = list(map(clean_titles,df))\n",
    "\n",
    "#Double check that our list is cleaned (all lower and no punctuation)\n",
    "title_list_clean"
   ]
  },
  {
   "cell_type": "code",
   "execution_count": 50,
   "metadata": {},
   "outputs": [],
   "source": [
    "#import cosine simliarity\n",
    "from sklearn.metrics.pairwise import cosine_similarity"
   ]
  },
  {
   "cell_type": "code",
   "execution_count": 51,
   "metadata": {},
   "outputs": [],
   "source": [
    "#Create our matrix of word appearances\n",
    "vec = CountVectorizer().fit_transform(title_list_clean)\n",
    "vecs = vec.toarray()"
   ]
  },
  {
   "cell_type": "code",
   "execution_count": 52,
   "metadata": {},
   "outputs": [
    {
     "data": {
      "text/plain": [
       "(24, 130)"
      ]
     },
     "execution_count": 52,
     "metadata": {},
     "output_type": "execute_result"
    }
   ],
   "source": [
    "#Shape of our vector matrix\n",
    "vecs.shape"
   ]
  },
  {
   "cell_type": "code",
   "execution_count": 53,
   "metadata": {},
   "outputs": [
    {
     "data": {
      "text/plain": [
       "array([[1.        , 0.33333333, 0.21821789, 0.        , 0.        ,\n",
       "        0.19245009, 0.16666667, 0.11785113, 0.21821789, 0.21821789,\n",
       "        0.25819889, 0.        , 0.21821789, 0.28867513, 0.28867513,\n",
       "        0.        , 0.        , 0.        , 0.        , 0.        ,\n",
       "        0.        , 0.        , 0.21821789, 0.        ],\n",
       "       [0.33333333, 1.        , 0.21821789, 0.        , 0.        ,\n",
       "        0.19245009, 0.16666667, 0.11785113, 0.        , 0.21821789,\n",
       "        0.        , 0.        , 0.21821789, 0.28867513, 0.28867513,\n",
       "        0.        , 0.        , 0.        , 0.        , 0.        ,\n",
       "        0.        , 0.        , 0.21821789, 0.        ]])"
      ]
     },
     "execution_count": 53,
     "metadata": {},
     "output_type": "execute_result"
    }
   ],
   "source": [
    "#Cosine similarity of the titles\n",
    "cos_similarity = cosine_similarity(vecs)\n",
    "\n",
    "#Examine the first two titles of the matrix\n",
    "cos_similarity[:2,:]"
   ]
  },
  {
   "cell_type": "code",
   "execution_count": 54,
   "metadata": {},
   "outputs": [
    {
     "data": {
      "text/plain": [
       "(24, 24)"
      ]
     },
     "execution_count": 54,
     "metadata": {},
     "output_type": "execute_result"
    }
   ],
   "source": [
    "#Create function to compare pairwise:\n",
    "cos_similarity.shape"
   ]
  },
  {
   "cell_type": "markdown",
   "metadata": {},
   "source": [
    "> **c.\tWhich two titles are the most similar to each other? Which are the most dissimilar? Where do they rank, among the first 24 results?**"
   ]
  },
  {
   "cell_type": "code",
   "execution_count": 55,
   "metadata": {},
   "outputs": [],
   "source": [
    "import seaborn as sns\n",
    "import matplotlib.pyplot as plt"
   ]
  },
  {
   "cell_type": "code",
   "execution_count": 56,
   "metadata": {},
   "outputs": [
    {
     "data": {
      "text/plain": [
       "<matplotlib.axes._subplots.AxesSubplot at 0x28b0bed4a20>"
      ]
     },
     "execution_count": 56,
     "metadata": {},
     "output_type": "execute_result"
    },
    {
     "data": {
      "image/png": "[encoded data removed]",
      "text/plain": [
       "<Figure size 792x648 with 2 Axes>"
      ]
     },
     "metadata": {
      "needs_background": "light"
     },
     "output_type": "display_data"
    }
   ],
   "source": [
    "#code adapted from: https://seaborn.pydata.org/examples/many_pairwise_correlations.html\n",
    "\n",
    "f, ax = plt.subplots(figsize=(11,9))\n",
    "\n",
    "cmap = sns.diverging_palette(230, 20, as_cmap=True)\n",
    "sns.heatmap(cos_similarity, cmap=cmap)"
   ]
  },
  {
   "cell_type": "markdown",
   "metadata": {},
   "source": [
    "Judging by our heatmap, we can easily tell that (9, 22), or (22,9) since it's a symmetric matrix, have the similarity score."
   ]
  },
  {
   "cell_type": "code",
   "execution_count": 58,
   "metadata": {},
   "outputs": [
    {
     "name": "stdout",
     "output_type": "stream",
     "text": [
      "Score:  0.7142857142857142\n",
      "\n",
      "Title 9:\n",
      " UFOs and the National Security State: The Cover-Up Exposed, 1973-1991 \n",
      " Title 22: \n",
      " UFOs and the National Security State: Chronology of a Coverup, 1941-1973\n"
     ]
    }
   ],
   "source": [
    "print(\"Score: \", cos_similarity[9,22])\n",
    "print(\"\\nTitle 9:\\n\", df[9],\"\\n\",\"Title 22: \\n\",df[22])"
   ]
  },
  {
   "cell_type": "markdown",
   "metadata": {},
   "source": [
    "This makes sense, because these books appear to be in the same series about UFOs and national security. However, they are ranked 13 books apart which seems far apart for such similar books."
   ]
  },
  {
   "cell_type": "code",
   "execution_count": 59,
   "metadata": {},
   "outputs": [
    {
     "name": "stdout",
     "output_type": "stream",
     "text": [
      "(0, 3)\n"
     ]
    }
   ],
   "source": [
    "#https://stackoverflow.com/questions/30180241/numpy-get-the-column-and-row-index-of-the-minimum-value-of-a-2d-array\n",
    "\n",
    "#Find the minimum value\n",
    "print(np.unravel_index(cos_similarity.argmin(), cos_similarity.shape))"
   ]
  },
  {
   "cell_type": "markdown",
   "metadata": {},
   "source": [
    "This appears to be the initial zero value between the first book and the 4th book."
   ]
  },
  {
   "cell_type": "code",
   "execution_count": 60,
   "metadata": {},
   "outputs": [
    {
     "name": "stdout",
     "output_type": "stream",
     "text": [
      "Title 0:\n",
      " UFOs: The Ultimate Abduction \n",
      " Title 3: \n",
      " The Hynek UFO Report: The Authoritative Account of the Project Blue Book Cover-Up\n"
     ]
    }
   ],
   "source": [
    "print(\"Title 0:\\n\", df[0],\"\\n\",\"Title 3: \\n\",df[3])"
   ]
  },
  {
   "cell_type": "markdown",
   "metadata": {},
   "source": [
    "These books actually have zero overlap because one uses the word *UFO* while the other uses the term *UFOs*."
   ]
  },
  {
   "cell_type": "markdown",
   "metadata": {},
   "source": [
    "## 2.\tNow evaluate using a major search engine.\n",
    "> **a.\tEnter one of the book titles from question 1a into Google, Bing, or Yahoo!. Copy the capsule of the first organic result and the 20th organic result. Take web results only (i.e., not video results), and skip sponsored results.**"
   ]
  },
  {
   "cell_type": "code",
   "execution_count": 62,
   "metadata": {},
   "outputs": [],
   "source": [
    "#Title used for Google search\n",
    "Title = \"ufos ultimate abduction\"\n",
    "\n",
    "#1st organic reslt\n",
    "first = \"\"\"New book \"UFOS: The Ultimate Abduction\" by Raymond E\"\"\"\n",
    "#20th organic result\n",
    "twentieth = \"\"\"Greg Sandow -- A Review of David Jacobs's Book \"The Threat\"\"\""
   ]
  },
  {
   "cell_type": "markdown",
   "metadata": {},
   "source": [
    "> **b.\tRun the same text similarity calculation that you used for question 1b on each of these capsules in comparison to the original query (book title).**"
   ]
  },
  {
   "cell_type": "code",
   "execution_count": 63,
   "metadata": {},
   "outputs": [],
   "source": [
    "capsules = [Title, first, twentieth]\n",
    "\n",
    "#code adapted from: https://towardsdatascience.com/calculating-string-similarity-in-python-276e18a7d33a\n",
    "\n",
    "#function to clean the capsules up\n",
    "def clean_string(x):\n",
    "    tmp = ''.join([i for i in x if i not in string.punctuation])\n",
    "    tmp = tmp.lower()\n",
    "    tmp = ' '.join(i for i in tmp.split() if i not in sw)\n",
    "    return tmp\n",
    "\n",
    "capsules_clean = list(map(clean_string,capsules))"
   ]
  },
  {
   "cell_type": "code",
   "execution_count": 65,
   "metadata": {},
   "outputs": [
    {
     "data": {
      "text/plain": [
       "['ufos ultimate abduction',\n",
       " 'new book ufos ultimate abduction raymond e',\n",
       " 'greg sandow review david jacobss book threat']"
      ]
     },
     "execution_count": 65,
     "metadata": {},
     "output_type": "execute_result"
    }
   ],
   "source": [
    "capsules_clean"
   ]
  },
  {
   "cell_type": "code",
   "execution_count": 66,
   "metadata": {},
   "outputs": [],
   "source": [
    "#Create our matrix of word appearances\n",
    "c_vec = CountVectorizer().fit_transform(capsules_clean)\n",
    "cap_vecs = c_vec.toarray()"
   ]
  },
  {
   "cell_type": "code",
   "execution_count": 67,
   "metadata": {},
   "outputs": [],
   "source": [
    "#Code adapted from: https://towardsdatascience.com/calculating-string-similarity-in-python-276e18a7d33a\n",
    "\n",
    "#Funciton to compare the two results to the title\n",
    "def capsule_cossim_vecs(x, y):\n",
    "    x = x.reshape(1,-1)\n",
    "    y = y.reshape(1,-1)\n",
    "    return cosine_similarity(x,y)[0][0]"
   ]
  },
  {
   "cell_type": "markdown",
   "metadata": {},
   "source": [
    "> **c.\tWhich one has the highest similarity measure?** "
   ]
  },
  {
   "cell_type": "code",
   "execution_count": 68,
   "metadata": {},
   "outputs": [
    {
     "data": {
      "text/plain": [
       "0.7071067811865477"
      ]
     },
     "execution_count": 68,
     "metadata": {},
     "output_type": "execute_result"
    }
   ],
   "source": [
    "#Title versus 1st capsule\n",
    "capsule_cossim_vecs(cap_vecs[0],cap_vecs[1])"
   ]
  },
  {
   "cell_type": "code",
   "execution_count": 69,
   "metadata": {},
   "outputs": [
    {
     "data": {
      "text/plain": [
       "0.0"
      ]
     },
     "execution_count": 69,
     "metadata": {},
     "output_type": "execute_result"
    }
   ],
   "source": [
    "#Title versus 20th capsule\n",
    "capsule_cossim_vecs(cap_vecs[0],cap_vecs[2])"
   ]
  },
  {
   "cell_type": "markdown",
   "metadata": {},
   "source": [
    "The 1st capsule was much more similar than the 20th capsule, which was not particularly surprising."
   ]
  },
  {
   "cell_type": "markdown",
   "metadata": {},
   "source": [
    "Overall, I was not shocked with my findings, though it was a good conceptual exercise. Many of the books about *UFOs* on Amazon discuss similar topics and use similar keywords in their titles, so it makes sense that they would be similar.\n",
    "\n",
    "Additionally, in my Google results, it makes sense that the 1st result would be a relatively high similarity score, while the 20th would be virtually zero. Obviously, Google wants to present the most relevant results first, and UFO books are not widely covered on the internet."
   ]
  }
 ],
 "metadata": {
  "kernelspec": {
   "display_name": "Python 3",
   "language": "python",
   "name": "python3"
  },
  "language_info": {
   "codemirror_mode": {
    "name": "ipython",
    "version": 3
   },
   "file_extension": ".py",
   "mimetype": "text/x-python",
   "name": "python",
   "nbconvert_exporter": "python",
   "pygments_lexer": "ipython3",
   "version": "3.7.1"
  }
 },
 "nbformat": 4,
 "nbformat_minor": 4
}
